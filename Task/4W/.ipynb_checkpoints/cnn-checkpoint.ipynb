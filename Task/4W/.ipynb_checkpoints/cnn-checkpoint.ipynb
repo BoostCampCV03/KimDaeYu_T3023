{
 "cells": [
  {
   "cell_type": "markdown",
   "metadata": {
    "id": "oGfS2g6XvFEw"
   },
   "source": [
    "<table class=\"tfo-notebook-buttons\" align=\"left\">\n",
    "  <td>\n",
    "    <a target=\"_blank\" href=\"https://colab.research.google.com/github/sjchoi86/upstage-basic-deeplearning/blob/main/notebook/cnn.ipynb\"><img src=\"https://www.tensorflow.org/images/colab_logo_32px.png\" />Colab</a>\n",
    "  </td>\n",
    "  <td>\n",
    "    <a target=\"_blank\" href=\"https://github.com/sjchoi86/upstage-basic-deeplearning/blob/main/notebook/cnn.ipynb\"><img src=\"https://www.tensorflow.org/images/GitHub-Mark-32px.png\" />View Source</a>\n",
    "  </td>\n",
    "</table>"
   ]
  },
  {
   "cell_type": "markdown",
   "metadata": {
    "id": "FJIOvMYGLFH6"
   },
   "source": [
    "# Convolutional Neural Network (CNN)"
   ]
  },
  {
   "cell_type": "code",
   "execution_count": 1,
   "metadata": {
    "colab": {
     "base_uri": "https://localhost:8080/"
    },
    "executionInfo": {
     "elapsed": 1292,
     "status": "ok",
     "timestamp": 1644240892187,
     "user": {
      "displayName": "김대유",
      "photoUrl": "https://lh3.googleusercontent.com/a/default-user=s64",
      "userId": "11843356623999793456"
     },
     "user_tz": -540
    },
    "id": "khkLmD7yK_ei",
    "outputId": "ba801789-6ff2-47de-943f-9f2ded272c94"
   },
   "outputs": [
    {
     "name": "stdout",
     "output_type": "stream",
     "text": [
      "PyTorch version:[1.10.0+cu111].\n",
      "device:[cuda:0].\n"
     ]
    }
   ],
   "source": [
    "import numpy as np\n",
    "import matplotlib.pyplot as plt\n",
    "import torch\n",
    "import torch.nn as nn\n",
    "import torch.optim as optim\n",
    "import torch.nn.functional as F\n",
    "%matplotlib inline\n",
    "%config InlineBackend.figure_format='retina'\n",
    "print (\"PyTorch version:[%s].\"%(torch.__version__))\n",
    "device = torch.device('cuda:0' if torch.cuda.is_available() else 'cpu')\n",
    "print (\"device:[%s].\"%(device))"
   ]
  },
  {
   "cell_type": "markdown",
   "metadata": {
    "id": "aciwjqf7MsTa"
   },
   "source": [
    "### Dataset"
   ]
  },
  {
   "cell_type": "code",
   "execution_count": 2,
   "metadata": {
    "colab": {
     "base_uri": "https://localhost:8080/"
    },
    "executionInfo": {
     "elapsed": 10,
     "status": "ok",
     "timestamp": 1644240892188,
     "user": {
      "displayName": "김대유",
      "photoUrl": "https://lh3.googleusercontent.com/a/default-user=s64",
      "userId": "11843356623999793456"
     },
     "user_tz": -540
    },
    "id": "GojZi6XMLZZ5",
    "outputId": "0a425095-9200-428d-fb46-a66d651ff92e"
   },
   "outputs": [
    {
     "name": "stdout",
     "output_type": "stream",
     "text": [
      "mnist_train:\n",
      " Dataset MNIST\n",
      "    Number of datapoints: 60000\n",
      "    Root location: ./data/\n",
      "    Split: Train\n",
      "    StandardTransform\n",
      "Transform: ToTensor() \n",
      "\n",
      "mnist_test:\n",
      " Dataset MNIST\n",
      "    Number of datapoints: 10000\n",
      "    Root location: ./data/\n",
      "    Split: Test\n",
      "    StandardTransform\n",
      "Transform: ToTensor() \n",
      "\n",
      "Done.\n"
     ]
    }
   ],
   "source": [
    "from torchvision import datasets,transforms\n",
    "mnist_train = datasets.MNIST(root='./data/',train=True,transform=transforms.ToTensor(),download=True)\n",
    "mnist_test = datasets.MNIST(root='./data/',train=False,transform=transforms.ToTensor(),download=True)\n",
    "print (\"mnist_train:\\n\",mnist_train,\"\\n\")\n",
    "print (\"mnist_test:\\n\",mnist_test,\"\\n\")\n",
    "print (\"Done.\")"
   ]
  },
  {
   "cell_type": "markdown",
   "metadata": {
    "id": "vD9uNmGDN3Fx"
   },
   "source": [
    "### Data Iterator"
   ]
  },
  {
   "cell_type": "code",
   "execution_count": 3,
   "metadata": {
    "colab": {
     "base_uri": "https://localhost:8080/"
    },
    "executionInfo": {
     "elapsed": 11,
     "status": "ok",
     "timestamp": 1644240892189,
     "user": {
      "displayName": "김대유",
      "photoUrl": "https://lh3.googleusercontent.com/a/default-user=s64",
      "userId": "11843356623999793456"
     },
     "user_tz": -540
    },
    "id": "kt2NQt92LaP8",
    "outputId": "e57f45ec-efe7-4d3d-ffc7-287127dc0831"
   },
   "outputs": [
    {
     "name": "stdout",
     "output_type": "stream",
     "text": [
      "Done.\n"
     ]
    }
   ],
   "source": [
    "BATCH_SIZE = 256\n",
    "train_iter = torch.utils.data.DataLoader(mnist_train,batch_size=BATCH_SIZE,shuffle=True,num_workers=1)\n",
    "test_iter = torch.utils.data.DataLoader(mnist_test,batch_size=BATCH_SIZE,shuffle=True,num_workers=1)\n",
    "print (\"Done.\")"
   ]
  },
  {
   "cell_type": "markdown",
   "metadata": {
    "id": "Kx8FI2g3ONca"
   },
   "source": [
    "### Define Model"
   ]
  },
  {
   "cell_type": "code",
   "execution_count": 4,
   "metadata": {
    "colab": {
     "base_uri": "https://localhost:8080/"
    },
    "executionInfo": {
     "elapsed": 3129,
     "status": "ok",
     "timestamp": 1644240895313,
     "user": {
      "displayName": "김대유",
      "photoUrl": "https://lh3.googleusercontent.com/a/default-user=s64",
      "userId": "11843356623999793456"
     },
     "user_tz": -540
    },
    "id": "hMBOgjaVLalV",
    "outputId": "33364a77-0fe0-4f7d-fbbc-71a753a4d8de"
   },
   "outputs": [
    {
     "name": "stdout",
     "output_type": "stream",
     "text": [
      "Done.\n"
     ]
    }
   ],
   "source": [
    "class ConvolutionalNeuralNetworkClass(nn.Module):\n",
    "    \"\"\"\n",
    "        Convolutional Neural Network (CNN) Class\n",
    "    \"\"\"\n",
    "    def __init__(self,name='cnn',xdim=[1,28,28],\n",
    "                 ksize=3,cdims=[32,64],hdims=[1024,128],ydim=10,\n",
    "                 USE_BATCHNORM=False):\n",
    "        super(ConvolutionalNeuralNetworkClass,self).__init__()\n",
    "        self.name = name\n",
    "        self.xdim = xdim\n",
    "        self.ksize = ksize\n",
    "        self.cdims = cdims\n",
    "        self.hdims = hdims\n",
    "        self.ydim = ydim\n",
    "        self.USE_BATCHNORM = USE_BATCHNORM\n",
    "\n",
    "        # Convolutional layers\n",
    "        self.layers = []\n",
    "        prev_cdim = self.xdim[0]\n",
    "        for cdim in self.cdims: # for each hidden layer\n",
    "            self.layers.append(\n",
    "                nn.Conv2d(\n",
    "                    in_channels=prev_cdim,\n",
    "                    out_channels=cdim,\n",
    "                    kernel_size=self.ksize,\n",
    "                    stride=(1,1),\n",
    "                    padding=self.ksize//2)\n",
    "                ) # convlution \n",
    "            if self.USE_BATCHNORM:\n",
    "                self.layers.append(nn.BatchNorm2d(cdim)) # batch-norm\n",
    "            self.layers.append(nn.ReLU(True))  # activation\n",
    "            self.layers.append(nn.MaxPool2d(kernel_size=(2,2), stride=(2,2))) # max-pooling \n",
    "            self.layers.append(nn.Dropout2d(p=0.5))  # dropout\n",
    "            prev_cdim = cdim\n",
    "\n",
    "        # Dense layers\n",
    "        self.layers.append(nn.Flatten())\n",
    "        prev_hdim = prev_cdim*(self.xdim[1]//(2**len(self.cdims)))*(self.xdim[2]//(2**len(self.cdims)))\n",
    "        for hdim in self.hdims:\n",
    "            self.layers.append(nn.Linear(\n",
    "                prev_hdim, hdim, bias=True))\n",
    "            self.layers.append(nn.ReLU(True))  # activation\n",
    "            prev_hdim = hdim\n",
    "        # Final layer (without activation)\n",
    "        self.layers.append(nn.Linear(prev_hdim,self.ydim,bias=True))\n",
    "\n",
    "        # Concatenate all layers \n",
    "        self.net = nn.Sequential()\n",
    "        for l_idx,layer in enumerate(self.layers):\n",
    "            layer_name = \"%s_%02d\"%(type(layer).__name__.lower(),l_idx)\n",
    "            self.net.add_module(layer_name,layer)\n",
    "        self.init_param() # initialize parameters\n",
    "        \n",
    "    def init_param(self):\n",
    "        for m in self.modules():\n",
    "            if isinstance(m,nn.Conv2d): # init conv\n",
    "                nn.init.kaiming_normal_(m.weight)\n",
    "                nn.init.zeros_(m.bias)\n",
    "            elif isinstance(m,nn.BatchNorm2d): # init BN\n",
    "                nn.init.constant_(m.weight,1)\n",
    "                nn.init.constant_(m.bias,0)\n",
    "            elif isinstance(m,nn.Linear): # lnit dense\n",
    "                nn.init.kaiming_normal_(m.weight)\n",
    "                nn.init.zeros_(m.bias)\n",
    "            \n",
    "    def forward(self,x):\n",
    "        return self.net(x)\n",
    "\n",
    "C = ConvolutionalNeuralNetworkClass(\n",
    "    name='cnn',xdim=[1,28,28],ksize=3,cdims=[32,64],\n",
    "    hdims=[32],ydim=10).to(device)\n",
    "loss = nn.CrossEntropyLoss()\n",
    "optm = optim.Adam(C.parameters(),lr=1e-3)\n",
    "print (\"Done.\")"
   ]
  },
  {
   "cell_type": "markdown",
   "metadata": {
    "id": "Gd4GqagEaaxP"
   },
   "source": [
    "### Check Parameters"
   ]
  },
  {
   "cell_type": "code",
   "execution_count": 5,
   "metadata": {
    "colab": {
     "base_uri": "https://localhost:8080/"
    },
    "executionInfo": {
     "elapsed": 16,
     "status": "ok",
     "timestamp": 1644240895314,
     "user": {
      "displayName": "김대유",
      "photoUrl": "https://lh3.googleusercontent.com/a/default-user=s64",
      "userId": "11843356623999793456"
     },
     "user_tz": -540
    },
    "id": "s9JhupRpaahm",
    "outputId": "b32bbfb2-4358-48ba-c3ff-ec96c58323e4"
   },
   "outputs": [
    {
     "name": "stdout",
     "output_type": "stream",
     "text": [
      "[0] name:[net.conv2d_00.weight] shape:[(32, 1, 3, 3)].\n",
      "    val:[ 0.715  0.214 -0.389 -0.685  0.68 ]\n",
      "[1] name:[net.conv2d_00.bias] shape:[(32,)].\n",
      "    val:[0. 0. 0. 0. 0.]\n",
      "[2] name:[net.conv2d_04.weight] shape:[(64, 32, 3, 3)].\n",
      "    val:[-0.149  0.05   0.137 -0.03   0.047]\n",
      "[3] name:[net.conv2d_04.bias] shape:[(64,)].\n",
      "    val:[0. 0. 0. 0. 0.]\n",
      "[4] name:[net.linear_09.weight] shape:[(32, 3136)].\n",
      "    val:[0.003 0.001 0.009 0.016 0.034]\n",
      "[5] name:[net.linear_09.bias] shape:[(32,)].\n",
      "    val:[0. 0. 0. 0. 0.]\n",
      "[6] name:[net.linear_11.weight] shape:[(10, 32)].\n",
      "    val:[ 0.158 -0.028  0.155  0.066  0.058]\n",
      "[7] name:[net.linear_11.bias] shape:[(10,)].\n",
      "    val:[0. 0. 0. 0. 0.]\n",
      "Total number of parameters:[119,530].\n"
     ]
    }
   ],
   "source": [
    "np.set_printoptions(precision=3)\n",
    "n_param = 0\n",
    "for p_idx,(param_name,param) in enumerate(C.named_parameters()):\n",
    "    if param.requires_grad:\n",
    "        param_numpy = param.detach().cpu().numpy() # to numpy array \n",
    "        n_param += len(param_numpy.reshape(-1))\n",
    "        print (\"[%d] name:[%s] shape:[%s].\"%(p_idx,param_name,param_numpy.shape))\n",
    "        print (\"    val:%s\"%(param_numpy.reshape(-1)[:5]))\n",
    "print (\"Total number of parameters:[%s].\"%(format(n_param,',d')))"
   ]
  },
  {
   "cell_type": "markdown",
   "metadata": {
    "id": "i574DsE8Z039"
   },
   "source": [
    "### Simple Forward Path of the CNN Model"
   ]
  },
  {
   "cell_type": "code",
   "execution_count": 6,
   "metadata": {
    "colab": {
     "base_uri": "https://localhost:8080/"
    },
    "executionInfo": {
     "elapsed": 15,
     "status": "ok",
     "timestamp": 1644240895315,
     "user": {
      "displayName": "김대유",
      "photoUrl": "https://lh3.googleusercontent.com/a/default-user=s64",
      "userId": "11843356623999793456"
     },
     "user_tz": -540
    },
    "id": "cJl7XSQMORAZ",
    "outputId": "c0336ec0-6620-4eec-8d1e-66c91cbee714"
   },
   "outputs": [
    {
     "name": "stdout",
     "output_type": "stream",
     "text": [
      "x_torch:\n",
      " tensor([[[[0.797, 0.948, 0.770,  ..., 0.894, 0.387, 0.029],\n",
      "          [0.299, 0.945, 0.060,  ..., 0.613, 0.241, 0.461],\n",
      "          [0.256, 0.314, 0.114,  ..., 0.858, 0.994, 0.165],\n",
      "          ...,\n",
      "          [0.342, 0.010, 0.840,  ..., 0.330, 0.339, 0.662],\n",
      "          [0.699, 0.381, 0.490,  ..., 0.780, 0.595, 0.603],\n",
      "          [0.855, 0.686, 0.461,  ..., 0.469, 0.593, 0.752]]],\n",
      "\n",
      "\n",
      "        [[[0.087, 0.465, 0.402,  ..., 0.417, 0.199, 0.280],\n",
      "          [0.176, 0.243, 0.326,  ..., 0.422, 0.564, 0.935],\n",
      "          [0.800, 0.968, 0.695,  ..., 0.804, 0.407, 0.751],\n",
      "          ...,\n",
      "          [0.830, 0.352, 0.915,  ..., 0.496, 0.229, 0.443],\n",
      "          [0.681, 0.410, 0.063,  ..., 0.399, 0.236, 0.046],\n",
      "          [0.302, 0.158, 0.738,  ..., 0.953, 0.227, 0.038]]]], device='cuda:0')\n",
      "y_torch:\n",
      " tensor([[ 0.763, -0.965,  0.380, -0.557,  0.153,  1.478, -0.932, -0.619,  0.926,\n",
      "         -1.789],\n",
      "        [ 3.640, -2.517,  1.187, -1.998,  0.168,  0.059,  0.726, -3.733,  2.081,\n",
      "         -0.114]], device='cuda:0', grad_fn=<AddmmBackward0>)\n",
      "\n",
      "x_numpy (2, 1, 28, 28):\n",
      " [[[[0.797 0.948 0.77  ... 0.894 0.387 0.029]\n",
      "   [0.299 0.945 0.06  ... 0.613 0.241 0.461]\n",
      "   [0.256 0.314 0.114 ... 0.858 0.994 0.165]\n",
      "   ...\n",
      "   [0.342 0.01  0.84  ... 0.33  0.339 0.662]\n",
      "   [0.699 0.381 0.49  ... 0.78  0.595 0.603]\n",
      "   [0.855 0.686 0.461 ... 0.469 0.593 0.752]]]\n",
      "\n",
      "\n",
      " [[[0.087 0.465 0.402 ... 0.417 0.199 0.28 ]\n",
      "   [0.176 0.243 0.326 ... 0.422 0.564 0.935]\n",
      "   [0.8   0.968 0.695 ... 0.804 0.407 0.751]\n",
      "   ...\n",
      "   [0.83  0.352 0.915 ... 0.496 0.229 0.443]\n",
      "   [0.681 0.41  0.063 ... 0.399 0.236 0.046]\n",
      "   [0.302 0.158 0.738 ... 0.953 0.227 0.038]]]]\n",
      "y_numpy (2, 10):\n",
      " [[ 0.763 -0.965  0.38  -0.557  0.153  1.478 -0.932 -0.619  0.926 -1.789]\n",
      " [ 3.64  -2.517  1.187 -1.998  0.168  0.059  0.726 -3.733  2.081 -0.114]]\n"
     ]
    }
   ],
   "source": [
    "np.set_printoptions(precision=3)\n",
    "torch.set_printoptions(precision=3)\n",
    "x_numpy = np.random.rand(2,1,28,28)\n",
    "x_torch = torch.from_numpy(x_numpy).float().to(device)\n",
    "y_torch = C.forward(x_torch) # forward path\n",
    "y_numpy = y_torch.detach().cpu().numpy() # torch tensor to numpy array\n",
    "print (\"x_torch:\\n\",x_torch)\n",
    "print (\"y_torch:\\n\",y_torch)\n",
    "print (\"\\nx_numpy %s:\\n\"%(x_numpy.shape,),x_numpy)\n",
    "print (\"y_numpy %s:\\n\"%(y_numpy.shape,),y_numpy)"
   ]
  },
  {
   "cell_type": "markdown",
   "metadata": {
    "id": "9-qCaXAKcOLx"
   },
   "source": [
    "### Evaluation Function"
   ]
  },
  {
   "cell_type": "code",
   "execution_count": 7,
   "metadata": {
    "colab": {
     "base_uri": "https://localhost:8080/"
    },
    "executionInfo": {
     "elapsed": 12,
     "status": "ok",
     "timestamp": 1644240895317,
     "user": {
      "displayName": "김대유",
      "photoUrl": "https://lh3.googleusercontent.com/a/default-user=s64",
      "userId": "11843356623999793456"
     },
     "user_tz": -540
    },
    "id": "q9LmS7OqcNzh",
    "outputId": "6d336a4e-62c1-40dd-819f-086074aa223f"
   },
   "outputs": [
    {
     "name": "stdout",
     "output_type": "stream",
     "text": [
      "Done\n"
     ]
    }
   ],
   "source": [
    "def func_eval(model,data_iter,device):\n",
    "    with torch.no_grad():\n",
    "        n_total,n_correct = 0,0\n",
    "        model.eval() # evaluate (affects DropOut and BN)\n",
    "        for batch_in,batch_out in data_iter:\n",
    "            y_trgt = batch_out.to(device)\n",
    "            model_pred = model(batch_in.view(-1,1,28,28).to(device))\n",
    "            _,y_pred = torch.max(model_pred.data,1)\n",
    "            n_correct += (y_pred==y_trgt).sum().item()\n",
    "            n_total += batch_in.size(0)\n",
    "        val_accr = (n_correct/n_total)\n",
    "        model.train() # back to train mode \n",
    "    return val_accr\n",
    "print (\"Done\")"
   ]
  },
  {
   "cell_type": "markdown",
   "metadata": {
    "id": "iy7XZ21CiNZA"
   },
   "source": [
    "### Initial Evaluation"
   ]
  },
  {
   "cell_type": "code",
   "execution_count": 8,
   "metadata": {
    "colab": {
     "base_uri": "https://localhost:8080/"
    },
    "executionInfo": {
     "elapsed": 17258,
     "status": "ok",
     "timestamp": 1644240912567,
     "user": {
      "displayName": "김대유",
      "photoUrl": "https://lh3.googleusercontent.com/a/default-user=s64",
      "userId": "11843356623999793456"
     },
     "user_tz": -540
    },
    "id": "EMR1DaAyLa5Y",
    "outputId": "7a6e9eef-b486-429a-aa60-07adb7a8656c"
   },
   "outputs": [
    {
     "name": "stdout",
     "output_type": "stream",
     "text": [
      "train_accr:[0.076] test_accr:[0.067].\n"
     ]
    }
   ],
   "source": [
    "C.init_param() # initialize parameters\n",
    "train_accr = func_eval(C,train_iter,device)\n",
    "test_accr = func_eval(C,test_iter,device)\n",
    "print (\"train_accr:[%.3f] test_accr:[%.3f].\"%(train_accr,test_accr))"
   ]
  },
  {
   "cell_type": "markdown",
   "metadata": {
    "id": "c6s_S4BIipcT"
   },
   "source": [
    "### Train"
   ]
  },
  {
   "cell_type": "code",
   "execution_count": 9,
   "metadata": {
    "colab": {
     "base_uri": "https://localhost:8080/"
    },
    "executionInfo": {
     "elapsed": 215043,
     "status": "ok",
     "timestamp": 1644241128396,
     "user": {
      "displayName": "김대유",
      "photoUrl": "https://lh3.googleusercontent.com/a/default-user=s64",
      "userId": "11843356623999793456"
     },
     "user_tz": -540
    },
    "id": "2LNJOJVCiO3k",
    "outputId": "74a31058-5e40-41ac-8109-d1a5b4d01945"
   },
   "outputs": [
    {
     "name": "stdout",
     "output_type": "stream",
     "text": [
      "Start training.\n",
      "epoch:[0] loss:[0.612] train_accr:[0.956] test_accr:[0.959].\n",
      "epoch:[1] loss:[0.178] train_accr:[0.976] test_accr:[0.975].\n",
      "epoch:[2] loss:[0.125] train_accr:[0.982] test_accr:[0.979].\n",
      "epoch:[3] loss:[0.100] train_accr:[0.982] test_accr:[0.981].\n",
      "epoch:[4] loss:[0.088] train_accr:[0.987] test_accr:[0.985].\n",
      "epoch:[5] loss:[0.078] train_accr:[0.989] test_accr:[0.985].\n",
      "epoch:[6] loss:[0.071] train_accr:[0.988] test_accr:[0.986].\n",
      "epoch:[7] loss:[0.067] train_accr:[0.990] test_accr:[0.986].\n",
      "epoch:[8] loss:[0.063] train_accr:[0.991] test_accr:[0.988].\n",
      "epoch:[9] loss:[0.056] train_accr:[0.991] test_accr:[0.987].\n",
      "Done\n"
     ]
    }
   ],
   "source": [
    "print (\"Start training.\")\n",
    "C.init_param() # initialize parameters\n",
    "C.train() # to train mode \n",
    "EPOCHS,print_every = 10,1\n",
    "for epoch in range(EPOCHS):\n",
    "    loss_val_sum = 0\n",
    "    for batch_in,batch_out in train_iter:\n",
    "        # Forward path\n",
    "        y_pred = C.forward(batch_in.view(-1,1,28,28).to(device))\n",
    "        loss_out = loss(y_pred,batch_out.to(device))\n",
    "        # Update\n",
    "        optm.zero_grad()      # reset gradient \n",
    "        loss_out.backward()      # backpropagate\n",
    "        optm.step()      # optimizer update\n",
    "        loss_val_sum += loss_out\n",
    "    loss_val_avg = loss_val_sum/len(train_iter)\n",
    "    # Print\n",
    "    if ((epoch%print_every)==0) or (epoch==(EPOCHS-1)):\n",
    "        train_accr = func_eval(C,train_iter,device)\n",
    "        test_accr = func_eval(C,test_iter,device)\n",
    "        print (\"epoch:[%d] loss:[%.3f] train_accr:[%.3f] test_accr:[%.3f].\"%\n",
    "               (epoch,loss_val_avg,train_accr,test_accr))\n",
    "print (\"Done\")"
   ]
  },
  {
   "cell_type": "markdown",
   "metadata": {
    "id": "ceHT-OdujWMS"
   },
   "source": [
    "### Test"
   ]
  },
  {
   "cell_type": "code",
   "execution_count": null,
   "metadata": {
    "executionInfo": {
     "elapsed": 8,
     "status": "aborted",
     "timestamp": 1644240649331,
     "user": {
      "displayName": "김대유",
      "photoUrl": "https://lh3.googleusercontent.com/a/default-user=s64",
      "userId": "11843356623999793456"
     },
     "user_tz": -540
    },
    "id": "x1CZBbCwjMh7"
   },
   "outputs": [],
   "source": [
    "n_sample = 25\n",
    "sample_indices = np.random.choice(len(mnist_test.targets),n_sample,replace=False)\n",
    "test_x = mnist_test.data[sample_indices]\n",
    "test_y = mnist_test.targets[sample_indices]\n",
    "with torch.no_grad():\n",
    "    C.eval() # to evaluation mode \n",
    "    y_pred = C.forward(test_x.view(-1,1,28,28).type(torch.float).to(device)/255.)\n",
    "y_pred = y_pred.argmax(axis=1)\n",
    "plt.figure(figsize=(10,10))\n",
    "for idx in range(n_sample):\n",
    "    plt.subplot(5, 5, idx+1)\n",
    "    plt.imshow(test_x[idx], cmap='gray')\n",
    "    plt.axis('off')\n",
    "    plt.title(\"Pred:%d, Label:%d\"%(y_pred[idx],test_y[idx]))\n",
    "plt.show()    \n",
    "print (\"Done\")"
   ]
  },
  {
   "cell_type": "code",
   "execution_count": null,
   "metadata": {
    "id": "i6poTCYZj4uM"
   },
   "outputs": [],
   "source": []
  }
 ],
 "metadata": {
  "accelerator": "GPU",
  "colab": {
   "collapsed_sections": [],
   "name": "cnn.ipynb의 사본",
   "provenance": [
    {
     "file_id": "https://github.com/sjchoi86/upstage-basic-deeplearning/blob/main/notebook/cnn.ipynb",
     "timestamp": 1644236576303
    }
   ]
  },
  "kernelspec": {
   "display_name": "Python 3 (ipykernel)",
   "language": "python",
   "name": "python3"
  },
  "language_info": {
   "codemirror_mode": {
    "name": "ipython",
    "version": 3
   },
   "file_extension": ".py",
   "mimetype": "text/x-python",
   "name": "python",
   "nbconvert_exporter": "python",
   "pygments_lexer": "ipython3",
   "version": "3.9.7"
  }
 },
 "nbformat": 4,
 "nbformat_minor": 1
}
